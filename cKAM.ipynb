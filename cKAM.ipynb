{
 "cells": [
  {
   "cell_type": "code",
   "execution_count": 1,
   "metadata": {},
   "outputs": [],
   "source": [
    "import numpy as np\n",
    "import random\n",
    "from numpy.random import multivariate_normal as randN\n",
    "from scipy.stats import multivariate_normal\n",
    "from scipy.special import gamma, kv\n",
    "\n",
    "import scipy\n",
    "import scipy.stats\n",
    "import matplotlib as mpl   \n",
    "import matplotlib.pyplot as plt\n",
    "from tqdm import tqdm\n",
    "import warnings\n",
    "warnings.filterwarnings('ignore')\n",
    "%matplotlib inline\n",
    "random.seed(1234)"
   ]
  },
  {
   "cell_type": "markdown",
   "metadata": {},
   "source": [
    " ## helper functions for all MCMC"
   ]
  },
  {
   "cell_type": "code",
   "execution_count": 4,
   "metadata": {},
   "outputs": [],
   "source": [
    "def prior(params):\n",
    "    return 1\n",
    "\n",
    "#Defines whether to accept or reject the new sample\n",
    "def acceptance(log_pi, log_pi_new, proposal_ratio=1):\n",
    "    accept=np.random.uniform(0,1)\n",
    "    acc_ratio = np.exp(log_pi_new-log_pi)*proposal_ratio\n",
    "    sig = 0\n",
    "    if accept < acc_ratio:\n",
    "        sig = 1\n",
    "    if acc_ratio > 1:\n",
    "        acc_ratio = 1\n",
    "    return sig, acc_ratio\n",
    "\n",
    "# compute autocorrelation at dimension dim\n",
    "def autocorrelation(samples, dim, max_lag):\n",
    "    x_j = samples[:, dim]\n",
    "    tmp = x_j - np.mean(x_j)\n",
    "    C_0 = np.sum(tmp**2)\n",
    "    auto_correlation = np.correlate(tmp, tmp, \"same\")\n",
    "    auto_correlation = auto_correlation / C_0\n",
    "    # auto correlation is symmetric\n",
    "    init = int((len(auto_correlation)/2))\n",
    "    return auto_correlation[init:init+max_lag]\n",
    " \n",
    "# plot autocorrelation \n",
    "def plot_autocorr(samples, max_lag=200, y_max = 0.2, y_min = -0.1):\n",
    "    n, d = samples.shape\n",
    "    for dim in range(d):\n",
    "        A = autocorrelation(samples, dim, max_lag)\n",
    "        label_dim = \"dim = \" + str(dim)\n",
    "        plt.plot(A, label=label_dim)\n",
    "    plt.title('Auto-correlation for all dimensions in the sample')    \n",
    "    plt.xlabel('lag')\n",
    "    plt.ylim((y_min, y_max))\n",
    "    plt.ylabel('Auto-correlation')\n",
    "    plt.legend()\n",
    "    plt.show()"
   ]
  },
  {
   "cell_type": "markdown",
   "metadata": {},
   "source": [
    "## Defining Counterexample"
   ]
  },
  {
   "cell_type": "code",
   "execution_count": 5,
   "metadata": {},
   "outputs": [
    {
     "data": {
      "image/png": "[encoded data removed]",
      "text/plain": [
       "<Figure size 432x288 with 1 Axes>"
      ]
     },
     "metadata": {
      "needs_background": "light"
     },
     "output_type": "display_data"
    }
   ],
   "source": [
    "def counter_posterior(x, data):\n",
    "    mean1 = np.array([-8, 0])\n",
    "    cov1 = np.array([[0.5,0],[0,0.5]], dtype=np.float32)\n",
    "    mean2 = np.array([8, 0])\n",
    "    cov2 = np.array([[2,0],[0,2]], dtype=np.float32)\n",
    "    res = 0\n",
    "    res += np.exp(-0.5*(x-mean1).T@np.linalg.inv(cov1)@(x-mean1))/np.sqrt(2*(np.pi**2)*np.linalg.det(cov1))/2\n",
    "    res += np.exp(-0.5*(x-mean2).T@np.linalg.inv(cov2)@(x-mean2))/np.sqrt(2*(np.pi**2)*np.linalg.det(cov2))\n",
    "    return np.log(res)\n",
    "res = []\n",
    "for x in np.arange(-15.0,15.0,0.1):\n",
    "    res.append(counter_posterior(np.array([x, 0]), 1))\n",
    "plt.plot(np.arange(-15.0,15.0,0.1), np.exp(res))\n",
    "# no data for counter example posterior\n",
    "data1 = np.array([])"
   ]
  },
  {
   "cell_type": "markdown",
   "metadata": {},
   "source": [
    "## Kernel Gradient Matrix"
   ]
  },
  {
   "cell_type": "code",
   "execution_count": 8,
   "metadata": {
    "scrolled": false
   },
   "outputs": [],
   "source": [
    "###############################################################################################################\n",
    "# Computes gradient of a guassian kernel\n",
    "def get_grad_Guassian(bandwidth=1.0):\n",
    "    def grad_func(x, x_prime):\n",
    "        # guassian kernel function\n",
    "        def k(x, x_prime, bandwidth):\n",
    "            tmp_1 = -1 * np.linalg.norm(x-x_prime)**2\n",
    "            tmp_2 = 2*bandwidth**2\n",
    "            return np.exp(tmp_1/tmp_2)\n",
    "        k_x_xp = k(x, x_prime, bandwidth)\n",
    "        return 1/(bandwidth**2)*k_x_xp*(x_prime-x)\n",
    "    return grad_func\n",
    "\n",
    "# Computes gradient of a linear kernel\n",
    "def get_grad_Linear():\n",
    "    def grad_func(x, x_prime):\n",
    "        return x_prime\n",
    "    return grad_func\n",
    "\n",
    "# Computes gradient of a Matérn kernel\n",
    "def get_grad_Matern(l=1.0, v=1.5):\n",
    "    def grad_func(x, x_prime):\n",
    "        # Matérn kernel function\n",
    "        def k(x, x_prime, l, v):\n",
    "            scale = 1 / (gamma(v)* 2**(v-1) )\n",
    "            tmp = (np.sqrt(2*v)/l) * np.linalg.norm(x-x_prime)\n",
    "            if tmp == 0:\n",
    "                return 1.0\n",
    "            else:\n",
    "                return scale * tmp**v *kv(v, tmp)\n",
    "        tmp_out = v/(l**2 * (v-1))\n",
    "        return tmp_out * k(x, x_prime, l, v-1) * (x_prime - x)\n",
    "    return grad_func \n",
    "\n",
    "###############################################################################################################\n",
    "# computes a kernel gradient matrix d x m, m = min{subsample_size, len(history)}\n",
    "# x:              current position, of dim=d\n",
    "# history:        chain history of accepted positions d x t\n",
    "# gradK:          function to compute the gradient of a kernel function w.r.t x\n",
    "# idx:            idx for the subsample of chain history\n",
    "# Returns:        M, the kernel gradient matrix d x m\n",
    "def get_kernel_grad_matrix(x, history, idx, gradK):\n",
    "    d, t = history.shape\n",
    "    m = len(idx)\n",
    "    M = np.zeros([d, m])\n",
    "    count = 0\n",
    "    for i in range(m):\n",
    "        M[:, i] = 2 * gradK(x, history[:, idx[i]])\n",
    "        count+=1\n",
    "    return M\n",
    "\n",
    "# get centraling matrix H\n",
    "# m:              min{subsample_size, len(history)}\n",
    "# Returns:        centraling matrix H\n",
    "def get_centraling_matrix(m):\n",
    "    I = np.identity(m)\n",
    "    ones = np.ones([m, m])\n",
    "    H = I - ones/m\n",
    "    return H"
   ]
  },
  {
   "cell_type": "markdown",
   "metadata": {},
   "source": [
    "## Schedulers"
   ]
  },
  {
   "cell_type": "code",
   "execution_count": 17,
   "metadata": {},
   "outputs": [],
   "source": [
    "# get idx for subsample z, resample z with decreasing probability {p_t} \n",
    "# iterations:       total number of iterations, p_0 = 1.0, p_iterations = 0.01\n",
    "# decay_rate:       controls p_t to be an exponential decay rate, with decay_rate in (0, 1) controls half-life\n",
    "# subsample_size:   number of subsamples from chain history\n",
    "# w_replacement:    subsample with or without replacement\n",
    "# returns:          a function that takes in 1) current idx list, 2) history\n",
    "#                   and generates a new idx list with prob p_t\n",
    "def idx_scheduler(iterations, decay_rate=0.5, subsample_size=50, w_replacement=False):\n",
    "    t_half = iterations/(2/decay_rate)\n",
    "    gamma = np.log(2)/t_half\n",
    "    t = np.linspace(0, iterations)\n",
    "    p_t = np.exp(-gamma*t)\n",
    "    fig = plt.figure(); plt.plot(t, p_t, 'r'); plt.title(\"resample probability $p_t$ schedule\"); plt.show()\n",
    "    def idx_func(idx, history):\n",
    "        if len(idx) == 0:\n",
    "            return idx\n",
    "        _, current_t = history.shape\n",
    "        p_t = np.exp(-gamma * current_t)\n",
    "        m = min(subsample_size, current_t)\n",
    "        dice = np.random.uniform(0,1)\n",
    "        if dice > p_t:\n",
    "            idx = np.random.choice(current_t, m, replace=w_replacement)  \n",
    "        return idx\n",
    "    return idx_func\n",
    "\n",
    "# noise scheduler, decaying from initial_noise -> final_noise\n",
    "# iterations:       total number of iterations, p_0 = 1.0, p_iterations = 0.01\n",
    "# initial_noise:    starting value for noise in KAM proposal\n",
    "# final_noise:      final value for noise\n",
    "# decay_rate:       controls the rate of decay, value in (0,1)\n",
    "# returns:          a function that takes in current iteration t, and returns noise for that t\n",
    "def decaying_noise_scheduler(iterations, initial_noise=4, final_noise=0.2, decay_rate=0.55):\n",
    "    tmp = (final_noise/initial_noise) ** (1/decay_rate)\n",
    "    b = (tmp*iterations) / (1 - tmp)\n",
    "    a = initial_noise* b ** decay_rate\n",
    "    t = np.linspace(0, iterations)\n",
    "    noise_t = a * (b + t)**(-decay_rate)\n",
    "    # plot for visualization\n",
    "    fig = plt.figure(); plt.plot(t, noise_t, 'b'); plt.title(\"noise term $\\gamma$ schedule\"); plt.show()\n",
    "    def noise_func(current_t):\n",
    "        return a * (b + current_t)**(-decay_rate)\n",
    "    return noise_func\n",
    "\n",
    "# noise scheduler, constant noise\n",
    "def constant_noise_scheduler(noise=0.2):\n",
    "    def noise_func(current_t):\n",
    "        return noise\n",
    "    return noise_func\n",
    "\n",
    "# the modified cyclical stepsize scheduler, \n",
    "# recomputes theoretical initial stepsize from the last step in Exploration\n",
    "# iterations_cycle:       number of iterations in a cycle\n",
    "# stepsize_exp:           the last stepsize in Exploration\n",
    "# beta:                   proportion of exploration   \n",
    "# returns:                a function that takes in current iteration t in the cycle, and returns its stepsize\n",
    "def modified_cyclical_stepsize_scheduler(iterations_cycle, stepsize_exp, beta=0.4):\n",
    "    stepsize_init = (2 * stepsize_exp) / (np.cos(beta * np.pi) + 1)\n",
    "#     t = np.linspace(0, iterations_cycle)\n",
    "#     tmp_plot = np.cos(np.pi * t/iterations_cycle)\n",
    "#     stepsize_plot = (stepsize_init/2) * (tmp_plot + 1)\n",
    "#     fig = plt.figure(); plt.plot(t, stepsize_plot, 'b'); plt.title(\"stepsize per cycle\"); plt.show()\n",
    "    def stepsize_func(current_t_cycle):\n",
    "        tmp = np.cos(np.pi * current_t_cycle/iterations_cycle)\n",
    "        stepsize_current = (stepsize_init/2) * (tmp + 1)\n",
    "        return stepsize_current\n",
    "    return stepsize_func"
   ]
  },
  {
   "cell_type": "markdown",
   "metadata": {},
   "source": [
    "## Random Walk proposal"
   ]
  },
  {
   "cell_type": "code",
   "execution_count": 20,
   "metadata": {},
   "outputs": [],
   "source": [
    "# Propose the next position x' with RW proposal \n",
    "# x:               current position, of dim=d\n",
    "# stepsize:        current stepsize\n",
    "# Sigma:           covariance matrix\n",
    "# Returns:         the proposed position x'\n",
    "def RW_proposal(x, stepsize, Sigma):\n",
    "    x_prime =  randN(x, stepsize**2*Sigma)\n",
    "    return x_prime"
   ]
  },
  {
   "cell_type": "markdown",
   "metadata": {},
   "source": [
    "## KAM proposal"
   ]
  },
  {
   "cell_type": "code",
   "execution_count": 26,
   "metadata": {},
   "outputs": [],
   "source": [
    "# Propose the next position x' with KAM proposal, also computes the proposal ratio\n",
    "# x:               current position, of dim=d\n",
    "# history:         chain history of accepted positions d x t\n",
    "# gradK:           function to compute the gradient of a kernel function w.r.t x\n",
    "# stepsize:        current stepsize\n",
    "# noise:           noise term gamma\n",
    "# idx:             idx for subsample z of chain history \n",
    "# Returns:         the proposed position x', proposal_ratio q(x|x')/q(x'|x), [optionally] cov_forward\n",
    "def KAM_proposal(x, history, gradK, stepsize, idx, noise, return_cov=False):\n",
    "    d, t = history.shape\n",
    "    if t == 0:\n",
    "        x_prime = randN(x, noise**2 * np.identity(d))\n",
    "        return x_prime, 1\n",
    "    else:\n",
    "        m = len(idx)\n",
    "        M = get_kernel_grad_matrix(x, history, idx, gradK)\n",
    "        H = get_centraling_matrix(m)\n",
    "        cov_forward = noise**2 * np.identity(d) + stepsize**2 * (M @ H @ M.T)\n",
    "        var_forward = multivariate_normal(mean=x, cov=cov_forward, allow_singular=True)\n",
    "        # propose next position x'\n",
    "        x_prime = randN(x, cov_forward)\n",
    "        # compute q(x'|x)\n",
    "        q_forward = var_forward.pdf(x_prime)\n",
    "        M_prime = get_kernel_grad_matrix(x_prime, history, idx, gradK)\n",
    "        cov_reverse = noise**2 * np.identity(d) + stepsize**2 * (M_prime @ H @ M_prime.T)\n",
    "        var_reverse = multivariate_normal(mean=x_prime, cov=cov_reverse, allow_singular=True)\n",
    "        # compute q(x|x')\n",
    "        q_reverse = var_reverse.pdf(x)\n",
    "        if return_cov:\n",
    "            return x_prime, q_reverse/q_forward, cov_forward\n",
    "        else:\n",
    "            return x_prime, q_reverse/q_forward"
   ]
  },
  {
   "cell_type": "markdown",
   "metadata": {},
   "source": [
    "## cKAM Sampler"
   ]
  },
  {
   "cell_type": "code",
   "execution_count": 24,
   "metadata": {},
   "outputs": [],
   "source": [
    "def cKAM(likelihood_computer, prior, x_init, iterations_cycle, n_cycles, beta,\n",
    "        data, acceptance_rule, stepsize_init, \n",
    "        gradK, idx_scheduler, noise_scheduler, eps=0.75, optim_acc=0.234):\n",
    "    # initialization of entire chain\n",
    "    x = np.array(x_init); samples = []; accept_acc = 0;\n",
    "    # begin sampling\n",
    "    for cycle in tqdm(range(n_cycles)):\n",
    "        # initialization of cycle\n",
    "        idx = np.empty(0); history = np.empty([len(x),0]); stepsize = stepsize_init\n",
    "        # number of iterations for exploration \n",
    "        iteration_exp = int(beta*iterations_cycle)\n",
    "        ################### Exploration phase ###################\n",
    "        for i in range(iteration_exp):\n",
    "            # Exploration phase\n",
    "            idx = idx_scheduler(idx, history)\n",
    "            noise = noise_scheduler(i)\n",
    "            # if at last step, record cov_exp\n",
    "            if i == (iteration_exp-1):\n",
    "                x_prime, proposal_ratio, cov_exp = KAM_proposal(x, history, gradK, stepsize, idx, noise, return_cov=True)\n",
    "            else:\n",
    "                x_prime, proposal_ratio = KAM_proposal(x, history, gradK, stepsize, idx, noise)\n",
    "            # MH step\n",
    "            log_pi = likelihood_computer(x, data) + np.log(prior(x))\n",
    "            log_pi_prime = likelihood_computer(x_prime, data) + np.log(prior(x_prime))\n",
    "            sig, acc_ratio = acceptance_rule(log_pi, log_pi_prime, proposal_ratio)\n",
    "            if sig: x = x_prime\n",
    "            # Adapting stepsize\n",
    "            eta = 1 / (1+i)**eps\n",
    "            stepsize = np.exp(np.log(stepsize) + eta*(acc_ratio - optim_acc))\n",
    "            # adding to chain history \n",
    "            history = np.hstack((history, x.reshape((-1,1))))\n",
    "        ###################    Transition    ###################\n",
    "        Sigma = cov_exp / (stepsize**2); stepsize_exp = stepsize\n",
    "        stepsize_schedule = modified_cyclical_stepsize_scheduler(iterations_cycle, stepsize_exp, beta)\n",
    "        ###################  Sampling phase  ###################\n",
    "        for i in range(iterations_cycle - iteration_exp):\n",
    "            stepsize = stepsize_schedule(i+iteration_exp)\n",
    "            x_prime = RW_proposal(x, stepsize, Sigma)\n",
    "            log_pi = likelihood_computer(x, data) + np.log(prior(x))\n",
    "            log_pi_prime = likelihood_computer(x_prime, data) + np.log(prior(x_prime))\n",
    "            # MH step\n",
    "            sig, acc_ratio = acceptance_rule(log_pi, log_pi_prime, 1)\n",
    "            if sig: \n",
    "                x = x_prime; accept_acc += 1\n",
    "            samples.append(x)\n",
    "    avg_acc = accept_acc / (iterations_cycle*(1-beta)*n_cycles)\n",
    "    return np.array(samples), avg_acc"
   ]
  },
  {
   "cell_type": "markdown",
   "metadata": {},
   "source": [
    "# cKAM on counter example"
   ]
  },
  {
   "cell_type": "markdown",
   "metadata": {},
   "source": [
    "### decaying noise can escape local mode"
   ]
  },
  {
   "cell_type": "code",
   "execution_count": 60,
   "metadata": {
    "scrolled": false
   },
   "outputs": [
    {
     "data": {
      "image/png": "[encoded data removed]",
      "text/plain": [
       "<Figure size 432x288 with 1 Axes>"
      ]
     },
     "metadata": {
      "needs_background": "light"
     },
     "output_type": "display_data"
    },
    {
     "data": {
      "image/png": "[encoded data removed]",
      "text/plain": [
       "<Figure size 432x288 with 1 Axes>"
      ]
     },
     "metadata": {
      "needs_background": "light"
     },
     "output_type": "display_data"
    },
    {
     "name": "stderr",
     "output_type": "stream",
     "text": [
      "100%|████████████████████████████████████████████████████████████████████████████████| 400/400 [00:50<00:00,  7.89it/s]\n"
     ]
    },
    {
     "name": "stdout",
     "output_type": "stream",
     "text": [
      "Density of the samples:\n"
     ]
    },
    {
     "data": {
      "image/png": "[encoded data removed]",
      "text/plain": [
       "<Figure size 432x288 with 1 Axes>"
      ]
     },
     "metadata": {
      "needs_background": "light"
     },
     "output_type": "display_data"
    },
    {
     "name": "stdout",
     "output_type": "stream",
     "text": [
      "Average acceptance ratio is: 0.7207785714285714\n"
     ]
    },
    {
     "data": {
      "image/png": "[encoded data removed]",
      "text/plain": [
       "<Figure size 432x288 with 1 Axes>"
      ]
     },
     "metadata": {
      "needs_background": "light"
     },
     "output_type": "display_data"
    },
    {
     "name": "stdout",
     "output_type": "stream",
     "text": [
      "histogram along dim 0:\n"
     ]
    },
    {
     "data": {
      "image/png": "[encoded data removed]",
      "text/plain": [
       "<Figure size 432x288 with 1 Axes>"
      ]
     },
     "metadata": {
      "needs_background": "light"
     },
     "output_type": "display_data"
    },
    {
     "name": "stdout",
     "output_type": "stream",
     "text": [
      "histogram along dim 1:\n"
     ]
    },
    {
     "data": {
      "image/png": "[encoded data removed]",
      "text/plain": [
       "<Figure size 432x288 with 1 Axes>"
      ]
     },
     "metadata": {
      "needs_background": "light"
     },
     "output_type": "display_data"
    }
   ],
   "source": [
    "np.random.seed(1234)\n",
    "iterations_cycle=500; beta=0.3; n_cycles=400; initial_stepsize= 4*2.38**2/2\n",
    "# get externel functions\n",
    "gradk = get_grad_Matern(l=2, v=4)\n",
    "idx_schedule = idx_scheduler(iterations_cycle, subsample_size=50, decay_rate=0.4)\n",
    "noise_schedule = decaying_noise_scheduler(iterations_cycle, initial_noise=4, final_noise=1, decay_rate=0.55)\n",
    "# begin training \n",
    "samples_cKAM, avg_acc = cKAM(counter_posterior, prior, [-8, 0], iterations_cycle, n_cycles, beta,\n",
    "                                     data1, acceptance, initial_stepsize, gradk, idx_schedule, noise_schedule,\n",
    "                                     eps=2, optim_acc=0.234)\n",
    "print(\"Density of the samples:\")\n",
    "plt.hist2d(samples_cKAM[:,0], samples_cKAM[:,1], bins=100)\n",
    "plt.show()\n",
    "print(\"Average acceptance ratio is:\", avg_acc)\n",
    "plot_autocorr(samples_cKAM, max_lag=400, y_max = 1, y_min = -0.1)\n",
    "print(\"histogram along dim 0:\")\n",
    "plt.hist(samples_cKAM[:,0], bins=50)\n",
    "plt.show()\n",
    "print(\"histogram along dim 1:\")\n",
    "plt.hist(samples_cKAM[:,1], bins=50)\n",
    "plt.show()"
   ]
  }
 ],
 "metadata": {
  "kernelspec": {
   "display_name": "Python 3.8.8 64-bit",
   "language": "python",
   "name": "python3"
  },
  "language_info": {
   "codemirror_mode": {
    "name": "ipython",
    "version": 3
   },
   "file_extension": ".py",
   "mimetype": "text/x-python",
   "name": "python",
   "nbconvert_exporter": "python",
   "pygments_lexer": "ipython3",
   "version": "3.8.8"
  },
  "vscode": {
   "interpreter": {
    "hash": "9650cb4e16cdd4a8e8e2d128bf38d875813998db22a3c986335f89e0cb4d7bb2"
   }
  }
 },
 "nbformat": 4,
 "nbformat_minor": 4
}
